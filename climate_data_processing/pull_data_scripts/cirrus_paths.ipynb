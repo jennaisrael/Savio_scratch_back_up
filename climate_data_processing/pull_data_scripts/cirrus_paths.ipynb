{
 "cells": [
  {
   "cell_type": "code",
   "execution_count": 1,
   "id": "f2cc1750-8b54-4811-84cc-a46ca9561a3d",
   "metadata": {},
   "outputs": [
    {
     "name": "stdout",
     "output_type": "stream",
     "text": [
      "Modules imported\n"
     ]
    }
   ],
   "source": [
    "import numpy as np \n",
    "import pandas as pd\n",
    "import sys\n",
    "import xarray as xr \n",
    "import matplotlib.pyplot as plt \n",
    "import matplotlib.dates as mdates \n",
    "import matplotlib as mpl\n",
    "from datetime import datetime\n",
    "import pprint\n",
    "print(\"Modules imported\")"
   ]
  },
  {
   "cell_type": "code",
   "execution_count": 2,
   "id": "5ca71328-7a18-4194-b4b8-2ce50d3a44e1",
   "metadata": {},
   "outputs": [],
   "source": [
    "# generate a csv with the paths to all the files I need to pull from the cirrus server\n",
    "#example link: https://cirrus.ucsd.edu/~pierce/LOCA2_CA_hybrid/LOCA2_CA_hybrid/CESM2-LENS/0p0625deg/r1i1p1f1/historical/psl/psl.CESM2-LENS.historical.r1i1p1f1.1950-2014.LOCA2_CA_hybrid_v20230115.nc"
   ]
  },
  {
   "cell_type": "code",
   "execution_count": 3,
   "id": "6fe3ecf3-ec75-44b0-9c87-c6e98d7fa8d1",
   "metadata": {},
   "outputs": [],
   "source": [
    "#theoretically the only thing you need to change\n",
    "var='wspeed' #DTR,pr,psl,rsds,tasmax,tasmin,uas,vas, wspeed"
   ]
  },
  {
   "cell_type": "code",
   "execution_count": 4,
   "id": "1b5828cd-1d24-49ba-99c0-bbbe6258777d",
   "metadata": {},
   "outputs": [],
   "source": [
    "#iterate through the models, SSPs, and intializations\n",
    "models=['ACCESS-CM2','CNRM-ESM2-1','EC-Earth3','EC-Earth3-Veg','GFDL-ESM4','HadGEM3-GC31-LL','INM-CM5-0','IPSL-CM6A-LR','MIROC6','MPI-ESM1-2-HR','MRI-ESM2-0']\n",
    "ssps=['historical','ssp245','ssp370','ssp585']\n",
    "init=['r1i1p1f1','r2i1p1f1','r3i1p1f1','r4i1p1f1','r5i1p1f1','r6i1p1f1','r7i1p1f1','r8i1p1f1','r9i1p1f1','r10i1p1f1','r1i1p1f2','r1i1p1f3','r2i1p1f3','r3i1p1f3']"
   ]
  },
  {
   "cell_type": "code",
   "execution_count": 5,
   "id": "21f0da25-8c0b-44e8-959f-952011c40407",
   "metadata": {},
   "outputs": [
    {
     "name": "stdout",
     "output_type": "stream",
     "text": [
      "['0r1i1p1f1', '1r2i1p1f1', '2r3i1p1f1', '3r4i1p1f1', '4r5i1p1f1', '5r6i1p1f1', '6r7i1p1f1', '7r8i1p1f1', '8r9i1p1f1', '9r10i1p1f1', '10r1i1p1f2', '11r1i1p1f3', '12r2i1p1f3', '13r3i1p1f3']\n"
     ]
    }
   ],
   "source": [
    "index=list(np.arange(0,len(init)))\n",
    "result = [str(x) + str(y) for x, y in zip(index, init)]\n",
    "print(result)"
   ]
  },
  {
   "cell_type": "code",
   "execution_count": 6,
   "id": "9ba76128-9860-48e6-9b97-54452f3e73bf",
   "metadata": {},
   "outputs": [],
   "source": [
    "#then need a multiplication array to indicate which models and SSPs include which initializations (4 per model), should this be a 3D array?\n",
    "n1=len(models)\n",
    "n2=len(ssps)\n",
    "n3=len(init)\n",
    "windmask=[[[0 for k in range(n3)] for j in range(n2)] for i in range(n1)]"
   ]
  },
  {
   "cell_type": "code",
   "execution_count": 7,
   "id": "3330830f-998c-438d-b069-73f4c218ae55",
   "metadata": {},
   "outputs": [],
   "source": [
    "#pprint.pprint(windmask)"
   ]
  },
  {
   "cell_type": "code",
   "execution_count": 8,
   "id": "c2cd3979-60c8-4e48-87c4-ae3464ec4b68",
   "metadata": {},
   "outputs": [
    {
     "name": "stdout",
     "output_type": "stream",
     "text": [
      "array([[[1, 0, 0, 0, 0, 0, 0, 0, 0, 0, 0, 0, 0, 0],\n",
      "        [1, 0, 0, 0, 0, 0, 0, 0, 0, 0, 0, 0, 0, 0],\n",
      "        [1, 0, 0, 0, 0, 0, 0, 0, 0, 0, 0, 0, 0, 0],\n",
      "        [1, 0, 0, 0, 0, 0, 0, 0, 0, 0, 0, 0, 0, 0]],\n",
      "\n",
      "       [[0, 0, 0, 0, 0, 0, 0, 0, 0, 0, 1, 0, 0, 0],\n",
      "        [0, 0, 0, 0, 0, 0, 0, 0, 0, 0, 1, 0, 0, 0],\n",
      "        [0, 0, 0, 0, 0, 0, 0, 0, 0, 0, 1, 0, 0, 0],\n",
      "        [0, 0, 0, 0, 0, 0, 0, 0, 0, 0, 1, 0, 0, 0]],\n",
      "\n",
      "       [[1, 1, 1, 1, 0, 0, 0, 0, 0, 0, 0, 0, 0, 0],\n",
      "        [1, 1, 0, 1, 0, 0, 0, 0, 0, 0, 0, 0, 0, 0],\n",
      "        [1, 0, 0, 1, 0, 0, 0, 0, 0, 0, 0, 0, 0, 0],\n",
      "        [1, 0, 1, 1, 0, 0, 0, 0, 0, 0, 0, 0, 0, 0]],\n",
      "\n",
      "       [[1, 1, 1, 1, 1, 0, 0, 0, 0, 0, 0, 0, 0, 0],\n",
      "        [1, 1, 1, 1, 1, 0, 0, 0, 0, 0, 0, 0, 0, 0],\n",
      "        [1, 1, 1, 1, 0, 0, 0, 0, 0, 0, 0, 0, 0, 0],\n",
      "        [1, 1, 1, 1, 0, 0, 0, 0, 0, 0, 0, 0, 0, 0]],\n",
      "\n",
      "       [[1, 0, 0, 0, 0, 0, 0, 0, 0, 0, 0, 0, 0, 0],\n",
      "        [1, 0, 0, 0, 0, 0, 0, 0, 0, 0, 0, 0, 0, 0],\n",
      "        [1, 0, 0, 0, 0, 0, 0, 0, 0, 0, 0, 0, 0, 0],\n",
      "        [1, 0, 0, 0, 0, 0, 0, 0, 0, 0, 0, 0, 0, 0]],\n",
      "\n",
      "       [[0, 0, 0, 0, 0, 0, 0, 0, 0, 0, 0, 1, 1, 1],\n",
      "        [0, 0, 0, 0, 0, 0, 0, 0, 0, 0, 0, 1, 0, 0],\n",
      "        [0, 0, 0, 0, 0, 0, 0, 0, 0, 0, 0, 0, 0, 0],\n",
      "        [0, 0, 0, 0, 0, 0, 0, 0, 0, 0, 0, 1, 1, 1]],\n",
      "\n",
      "       [[1, 1, 1, 1, 1, 0, 0, 0, 0, 0, 0, 0, 0, 0],\n",
      "        [1, 0, 0, 0, 0, 0, 0, 0, 0, 0, 0, 0, 0, 0],\n",
      "        [1, 1, 1, 1, 1, 0, 0, 0, 0, 0, 0, 0, 0, 0],\n",
      "        [1, 0, 0, 0, 0, 0, 0, 0, 0, 0, 0, 0, 0, 0]],\n",
      "\n",
      "       [[1, 1, 1, 1, 1, 1, 1, 1, 1, 1, 0, 0, 0, 0],\n",
      "        [1, 1, 1, 1, 1, 0, 0, 0, 0, 0, 0, 0, 0, 0],\n",
      "        [1, 1, 1, 1, 1, 1, 1, 1, 1, 1, 0, 0, 0, 0],\n",
      "        [1, 1, 1, 1, 0, 0, 0, 0, 0, 0, 0, 0, 0, 0]],\n",
      "\n",
      "       [[1, 1, 1, 1, 1, 0, 0, 0, 0, 0, 0, 0, 0, 0],\n",
      "        [1, 1, 1, 0, 0, 0, 0, 0, 0, 0, 0, 0, 0, 0],\n",
      "        [1, 1, 1, 0, 0, 0, 0, 0, 0, 0, 0, 0, 0, 0],\n",
      "        [1, 1, 1, 1, 1, 0, 0, 0, 0, 0, 0, 0, 0, 0]],\n",
      "\n",
      "       [[1, 1, 1, 1, 1, 0, 0, 0, 0, 1, 0, 0, 0, 0],\n",
      "        [1, 1, 0, 0, 0, 0, 0, 0, 0, 0, 0, 0, 0, 0],\n",
      "        [1, 1, 1, 1, 1, 0, 0, 0, 0, 1, 0, 0, 0, 0],\n",
      "        [1, 1, 0, 0, 0, 0, 0, 0, 0, 0, 0, 0, 0, 0]],\n",
      "\n",
      "       [[1, 1, 1, 1, 1, 0, 0, 0, 0, 0, 0, 0, 0, 0],\n",
      "        [1, 0, 0, 0, 0, 0, 0, 0, 0, 0, 0, 0, 0, 0],\n",
      "        [1, 1, 1, 1, 1, 0, 0, 0, 0, 0, 0, 0, 0, 0],\n",
      "        [1, 0, 0, 0, 0, 0, 0, 0, 0, 0, 0, 0, 0, 0]]])\n"
     ]
    }
   ],
   "source": [
    "#now assign where there are ones\n",
    "#is the index order model, ssp, init\n",
    "windmask=np.array(windmask)\n",
    "#go by model to match sheet\n",
    "windmask[0,:,0]=1\n",
    "\n",
    "windmask[1,:,10]=1\n",
    "\n",
    "windmask[2,0,0:4]=1\n",
    "windmask[2,1,[0,1,3]]=1\n",
    "windmask[2,2,[0,3]]=1\n",
    "windmask[2,3,[0,2,3]]=1\n",
    "\n",
    "windmask[3,0,0:5]=1\n",
    "windmask[3,1,0:5]=1\n",
    "windmask[3,2,0:4]=1\n",
    "windmask[3,3,0:4]=1\n",
    "\n",
    "windmask[4,0,0]=1\n",
    "windmask[4,1,0]=1\n",
    "windmask[4,2,0]=1\n",
    "windmask[4,3,0]=1\n",
    "\n",
    "windmask[5,0,11:]=1\n",
    "windmask[5,1,11]=1\n",
    "#no 370 SSPt for HadGEM3-GC31-LL\n",
    "windmask[5,3,11:]=1\n",
    "\n",
    "windmask[6,0,0:5]=1\n",
    "windmask[6,1,0]=1\n",
    "windmask[6,2,0:5]=1\n",
    "windmask[6,3,0]=1\n",
    "\n",
    "windmask[7,0,0:10]=1\n",
    "windmask[7,1,0:5]=1\n",
    "windmask[7,2,0:10]=1\n",
    "windmask[7,3,0:4]=1\n",
    "\n",
    "windmask[8,0,0:5]=1\n",
    "windmask[8,1,0:3]=1\n",
    "windmask[8,2,0:3]=1\n",
    "windmask[8,3,0:5]=1\n",
    "\n",
    "windmask[9,0,[0,1,2,3,4,9]]=1\n",
    "windmask[9,1,0:2]=1\n",
    "windmask[9,2,[0,1,2,3,4,9]]=1\n",
    "windmask[9,3,0:2]=1\n",
    "\n",
    "windmask[10,0,0:5]=1\n",
    "windmask[10,1,0]=1\n",
    "windmask[10,2,0:5]=1\n",
    "windmask[10,3,0]=1\n",
    "\n",
    "pprint.pprint(windmask)"
   ]
  },
  {
   "cell_type": "code",
   "execution_count": 9,
   "id": "3fec8acd-5c01-4cef-8592-9b0f62959049",
   "metadata": {},
   "outputs": [],
   "source": [
    "root ='https://cirrus.ucsd.edu/~pierce/LOCA2_CA_hybrid/LOCA2_CA_hybrid/'"
   ]
  },
  {
   "cell_type": "code",
   "execution_count": 10,
   "id": "1e8d38e5-3f57-4939-be32-ecdbf35ae3db",
   "metadata": {},
   "outputs": [],
   "source": [
    "# generate a csv with the paths to all the files I need to pull from the cirrus server\n",
    "#example link: https://cirrus.ucsd.edu/~pierce/LOCA2_CA_hybrid/LOCA2_CA_hybrid/CESM2-LENS/0p0625deg/r1i1p1f1/historical/psl/psl.CESM2-LENS.historical.r1i1p1f1.1950-2014.LOCA2_CA_hybrid_v20230115.nc"
   ]
  },
  {
   "cell_type": "code",
   "execution_count": 11,
   "id": "850c07d6-2106-4d06-9cdb-36b273739662",
   "metadata": {},
   "outputs": [],
   "source": [
    "# # assign list\n",
    "# l = ['Geeks','for','Geeks!']\n",
    "\n",
    "# # open file\n",
    "# with open('gfg.txt', 'w+') as f:\n",
    "    \n",
    "#     # write elements of list\n",
    "#     for items in l:\n",
    "#         f.write('%s\\n' %items)\n",
    "    \n",
    "#     print(\"File written successfully\")\n",
    "\n",
    "\n",
    "# # close the file\n",
    "# f.close()    \n"
   ]
  },
  {
   "cell_type": "code",
   "execution_count": 12,
   "id": "87849d2a-ab69-4ea8-ba0c-66d9c4dcbf41",
   "metadata": {},
   "outputs": [],
   "source": [
    "#actually if I want to use the regex notation I need to path the website root separately from the file path so maybe need to write those to separate csvs\n",
    "#iterate through to make the file name and then path\n",
    "mn=0\n",
    "sn=0\n",
    "itn=0\n",
    "\n",
    "sitefilename='site_'+var+'.txt'\n",
    "filenamefilename='filename_'+var+'.txt'\n",
    "\n",
    "site=open(sitefilename,'w+')\n",
    "filename=open(filenamefilename,'w+')\n",
    "\n",
    "for m in models:\n",
    "    sn=0\n",
    "    for s in ssps:\n",
    "        itn=0\n",
    "        for it in init:\n",
    "            \n",
    "            if windmask[mn,sn,itn]==1:\n",
    "                fname=var+'.'+m+'.'+s+'.'+it+'*'+'v20230115.nc' #see if the star works bc there are a few files with different year ranges for different models\n",
    "                path=root+m+'/0p0625deg/'+it+'/'+s+'/'+var+'/'\n",
    "                # site.write('%s\\n' %path)\n",
    "                # filename.write('%s\\n' %fname)\n",
    "                # print('%s\\n' %path)\n",
    "                # print('\"%s\"\\n' %fname)\n",
    "                site.write('%s\\n' %path)\n",
    "                filename.write('\"%s\"\\n' %fname)\n",
    "                \n",
    "            itn=itn+1\n",
    "        sn=sn+1\n",
    "    mn=mn+1\n",
    "\n",
    "site.close()\n",
    "filename.close()"
   ]
  },
  {
   "cell_type": "code",
   "execution_count": 13,
   "id": "bddb3366-6e3c-4d2d-9326-e27ef8b9c8f9",
   "metadata": {},
   "outputs": [],
   "source": [
    "#iterate through to make the file name and then path\n",
    "mn=0\n",
    "sn=0\n",
    "itn=0\n",
    "for m in models:\n",
    "    sn=0\n",
    "    for s in ssps:\n",
    "        itn=0\n",
    "        for it in init:\n",
    "            \n",
    "            if windmask[mn,sn,itn]==1:\n",
    "                fname=var+'.'+m+'.'+s+'.'+it+'*'+'v20230115.nc' #see if the star works bc there are a few files with different year ranges for different models\n",
    "                path=root+m+'/0p0625deg/'+it+'/'+s+'/'+var+'/'+fname\n",
    "                #print(path)\n",
    "                \n",
    "            itn=itn+1\n",
    "        sn=sn+1\n",
    "    mn=mn+1\n",
    "        "
   ]
  },
  {
   "cell_type": "code",
   "execution_count": 14,
   "id": "ce1f8ac3-50fb-40fb-b16f-ff6f8d3ce6e5",
   "metadata": {},
   "outputs": [],
   "source": [
    "#test on the download node\n",
    "#https://cirrus.ucsd.edu/~pierce/LOCA2_CA_hybrid/LOCA2_CA_hybrid/ACCESS-CM2/0p0625deg/r1i1p1f1/ssp245/psl/psl.ACCESS-CM2.ssp245.r1i1p1f1*v20230115.nc"
   ]
  }
 ],
 "metadata": {
  "kernelspec": {
   "display_name": "schimpy",
   "language": "python",
   "name": "schimpy"
  },
  "language_info": {
   "codemirror_mode": {
    "name": "ipython",
    "version": 3
   },
   "file_extension": ".py",
   "mimetype": "text/x-python",
   "name": "python",
   "nbconvert_exporter": "python",
   "pygments_lexer": "ipython3",
   "version": "3.7.16"
  }
 },
 "nbformat": 4,
 "nbformat_minor": 5
}
