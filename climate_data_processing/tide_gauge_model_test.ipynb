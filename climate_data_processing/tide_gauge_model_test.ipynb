{
 "cells": [
  {
   "cell_type": "markdown",
   "id": "a380409d-3e6a-4678-80aa-c10b9253a7bc",
   "metadata": {},
   "source": [
    "# Notebook to assemble dataset for non-linear regression training"
   ]
  },
  {
   "cell_type": "code",
   "execution_count": null,
   "id": "38c14499-cb3b-4064-a052-7125662fbbba",
   "metadata": {},
   "outputs": [],
   "source": [
    "import numpy as np\n",
    "import pandas as pd\n",
    "import xarray as xr"
   ]
  },
  {
   "cell_type": "markdown",
   "id": "647ef989-e126-4d27-ac23-e5e87dfd5a85",
   "metadata": {},
   "source": [
    "# load reference SLP and air temperature from WRF forcing at the tide gauge location"
   ]
  },
  {
   "cell_type": "code",
   "execution_count": null,
   "id": "a1588cf7-ffe7-476c-af91-f7a85fc486c6",
   "metadata": {},
   "outputs": [],
   "source": [
    "pr=pd.read_csv(\"/global/scratch/users/jennaisrael/time_varying_data/cleaned_aws/Point_Reyes_Tide_Gauge_a_l_l_1951_2019\")\n",
    "mb=pd.read_csv(\"/global/scratch/users/jennaisrael/time_varying_data/cleaned_aws/Monterey_Bay_Tide_Gauge_a_l_l_1951_2019\")"
   ]
  },
  {
   "cell_type": "markdown",
   "id": "11092dd3-52f6-41e1-ad1e-a8fb0972deef",
   "metadata": {},
   "source": [
    "# load offshore wind data from WRF forcing"
   ]
  },
  {
   "cell_type": "markdown",
   "id": "61c95d1e-aa64-4df2-b748-bb4a4d54677c",
   "metadata": {},
   "source": [
    "# pull PDO data and ENSO SST anomalies"
   ]
  },
  {
   "cell_type": "markdown",
   "id": "eda7c953-e7b6-4154-8849-91f3a409bf05",
   "metadata": {},
   "source": [
    "# pull tide gauge data"
   ]
  },
  {
   "cell_type": "code",
   "execution_count": null,
   "id": "e1ef56b1-beff-4151-a583-5de29427712f",
   "metadata": {},
   "outputs": [],
   "source": [
    "#example from code used to do this for SCHISM\n",
    "download_noaa=$path2dms/download_noaa.py\n",
    "~/.conda/envs/schimpy2/bin/python  $download_noaa --start=$stime --end=$etime --dest=$path2tidal --station=9415020 --param=water_level #--overwrite=True\n",
    "\n",
    "#conda run -n schimpy python  $download_noaa --start=$stime --end=$etime --dest=$path2tidal --station=9413450 --param=water_level #-overwrite=True\n",
    "~/.conda/envs/schimpy2/bin/python $download_noaa --start=$stime --end=$etime --dest=$path2tidal --station=9413450 --param=water_level #-overwrite=True\n"
   ]
  },
  {
   "cell_type": "code",
   "execution_count": null,
   "id": "ee7680a5-585b-4b9d-b94b-10a3caf52423",
   "metadata": {},
   "outputs": [],
   "source": []
  },
  {
   "cell_type": "code",
   "execution_count": null,
   "id": "5cf7211c-2ab3-4630-859d-4b74705c1103",
   "metadata": {},
   "outputs": [],
   "source": [
    "#load Sam's ERA5 dataset"
   ]
  }
 ],
 "metadata": {
  "kernelspec": {
   "display_name": "geoplot2",
   "language": "python",
   "name": "geoplot2"
  },
  "language_info": {
   "codemirror_mode": {
    "name": "ipython",
    "version": 3
   },
   "file_extension": ".py",
   "mimetype": "text/x-python",
   "name": "python",
   "nbconvert_exporter": "python",
   "pygments_lexer": "ipython3",
   "version": "3.11.9"
  }
 },
 "nbformat": 4,
 "nbformat_minor": 5
}
