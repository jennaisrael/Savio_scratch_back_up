{
 "cells": [
  {
   "cell_type": "code",
   "execution_count": 1,
   "id": "2b0dc014-76c6-4f14-8fbf-e8268b205273",
   "metadata": {},
   "outputs": [
    {
     "name": "stderr",
     "output_type": "stream",
     "text": [
      "/global/software/sl-7.x86_64/modules/langs/python/3.10/lib/python3.10/site-packages/geopandas/_compat.py:123: UserWarning: The Shapely GEOS version (3.11.2-CAPI-1.17.2) is incompatible with the GEOS version PyGEOS was compiled with (3.10.4-CAPI-1.16.2). Conversions between both will be slow.\n",
      "  warnings.warn(\n",
      "/tmp/ipykernel_2558566/454809004.py:3: UserWarning: Shapely 2.0 is installed, but because PyGEOS is also installed, GeoPandas will still use PyGEOS by default for now. To force to use and test Shapely 2.0, you have to set the environment variable USE_PYGEOS=0. You can do this before starting the Python process, or in your code before importing geopandas:\n",
      "\n",
      "import os\n",
      "os.environ['USE_PYGEOS'] = '0'\n",
      "import geopandas\n",
      "\n",
      "In a future release, GeoPandas will switch to using Shapely by default. If you are using PyGEOS directly (calling PyGEOS functions on geometries from GeoPandas), this will then stop working and you are encouraged to migrate from PyGEOS to Shapely 2.0 (https://shapely.readthedocs.io/en/latest/migration_pygeos.html).\n",
      "  import geopandas as gpd\n"
     ]
    }
   ],
   "source": [
    "import netCDF4 as nc\n",
    "import xarray as xr\n",
    "import geopandas as gpd\n",
    "import numpy as np\n",
    "from shapely.geometry import Point"
   ]
  },
  {
   "cell_type": "code",
   "execution_count": 2,
   "id": "400a9f72-8fe3-476e-8f25-fe9bfe0620cb",
   "metadata": {},
   "outputs": [],
   "source": [
    "# Open the NetCDF file\n",
    "nc_file = nc.Dataset('/global/scratch/users/jennaisrael/BayDeltaSCHISM/data/HRRR/wy_2019/2018/hrrr_2018090100.nc')"
   ]
  },
  {
   "cell_type": "code",
   "execution_count": 5,
   "id": "7f2bfd14-1d86-471e-853c-4536a585b2f3",
   "metadata": {},
   "outputs": [
    {
     "name": "stdout",
     "output_type": "stream",
     "text": [
      "<class 'netCDF4._netCDF4.Dataset'>\n",
      "root group (NETCDF4 data model, file format HDF5):\n",
      "    creator_institution: NOAA\n",
      "    geospatial_lat_min: 37.36\n",
      "    geospatial_lat_max: 39.0\n",
      "    geospatial_lon_min: -123.023\n",
      "    geospatial_lon_max: -121.16\n",
      "    publisher_institution: California Department of Water Resources\n",
      "    program: HRRR\n",
      "    title: Subsetted reanalysis atmospheric data for Bay-Delta SCHISM\n",
      "    dimensions(sizes): time(24), ny_grid(72), nx_grid(68)\n",
      "    variables(dimensions): float32 stmp(time, ny_grid, nx_grid), float32 spfh(time, ny_grid, nx_grid), float32 uwind(time, ny_grid, nx_grid), float32 vwind(time, ny_grid, nx_grid), float32 prmsl(time, ny_grid, nx_grid), float32 prate(time, ny_grid, nx_grid), float32 dlwrf(time, ny_grid, nx_grid), float32 dswrf(time, ny_grid, nx_grid), float32 time(time), float32 lon(ny_grid, nx_grid), float32 lat(ny_grid, nx_grid)\n",
      "    groups: \n"
     ]
    }
   ],
   "source": [
    "print(nc_file)"
   ]
  },
  {
   "cell_type": "code",
   "execution_count": 6,
   "id": "40bcbe4f-fd8a-40d8-9f19-e750078d0274",
   "metadata": {},
   "outputs": [
    {
     "name": "stdout",
     "output_type": "stream",
     "text": [
      "<class 'numpy.ma.core.MaskedArray'>\n"
     ]
    }
   ],
   "source": [
    "print(type(nc_file.variables['lat'][:]))"
   ]
  },
  {
   "cell_type": "code",
   "execution_count": 7,
   "id": "a56441ca-398f-4d73-9891-a1463bb7808b",
   "metadata": {},
   "outputs": [
    {
     "data": {
      "text/plain": [
       "False"
      ]
     },
     "execution_count": 7,
     "metadata": {},
     "output_type": "execute_result"
    }
   ],
   "source": [
    "np.ma.getmask(nc_file.variables['lat'][:])"
   ]
  },
  {
   "cell_type": "code",
   "execution_count": 8,
   "id": "14b5764e-9943-4754-9195-e599f3e806cd",
   "metadata": {},
   "outputs": [
    {
     "name": "stdout",
     "output_type": "stream",
     "text": [
      "lat masked:\n",
      " [37.013203 37.03915  37.0651   37.09105  37.116997 37.142944 37.16889\n",
      " 37.19484  37.220787 37.246735 37.27268  37.298626 37.32457  37.350513\n",
      " 37.376457 37.4024   37.428345 37.454285 37.48023  37.50617  37.53211\n",
      " 37.55805  37.58399  37.60993  37.635864 37.661804 37.68774  37.713676\n",
      " 37.739613 37.76555  37.791485 37.817417 37.84335  37.86928  37.895214\n",
      " 37.921146 37.94708  37.973007 37.99894  38.024868 38.050797 38.076725\n",
      " 38.10265  38.12858  38.154503 38.180428 38.206352 38.232273 38.258198\n",
      " 38.28412  38.31004  38.33596  38.36188  38.387802 38.41372  38.439636\n",
      " 38.465553 38.49147  38.517384 38.5433   38.569214 38.595127 38.621037\n",
      " 38.64695  38.67286  38.69877  38.724678 38.750587 38.776493 38.8024\n",
      " 38.828304 38.85421 ]\n",
      "Converted array with NaN for masked values:\n",
      " [37.013203 37.03915  37.0651   37.09105  37.116997 37.142944 37.16889\n",
      " 37.19484  37.220787 37.246735 37.27268  37.298626 37.32457  37.350513\n",
      " 37.376457 37.4024   37.428345 37.454285 37.48023  37.50617  37.53211\n",
      " 37.55805  37.58399  37.60993  37.635864 37.661804 37.68774  37.713676\n",
      " 37.739613 37.76555  37.791485 37.817417 37.84335  37.86928  37.895214\n",
      " 37.921146 37.94708  37.973007 37.99894  38.024868 38.050797 38.076725\n",
      " 38.10265  38.12858  38.154503 38.180428 38.206352 38.232273 38.258198\n",
      " 38.28412  38.31004  38.33596  38.36188  38.387802 38.41372  38.439636\n",
      " 38.465553 38.49147  38.517384 38.5433   38.569214 38.595127 38.621037\n",
      " 38.64695  38.67286  38.69877  38.724678 38.750587 38.776493 38.8024\n",
      " 38.828304 38.85421 ]\n"
     ]
    }
   ],
   "source": [
    "regular_array_with_nan = nc_file.variables['lat'][:,0].filled(np.nan)\n",
    "\n",
    "# Print the original array, the masked array, and the converted array\n",
    "print('lat masked:\\n', nc_file.variables['lat'][:,0])\n",
    "print('Converted array with NaN for masked values:\\n', regular_array_with_nan)"
   ]
  },
  {
   "cell_type": "code",
   "execution_count": 37,
   "id": "28475c82-dcf1-4e27-acbd-f33badb1e96b",
   "metadata": {},
   "outputs": [],
   "source": [
    "# Extract the variables you want to include in the shapefile\n",
    "#try adding filled \n",
    "lon = nc_file.variables['lon'][:,0].filled(np.nan) #2 dimensions float32 lon(ny_grid, nx_grid)\n",
    "lat = nc_file.variables['lat'][:,0].filled(np.nan)\n",
    "uwind = nc_file.variables['uwind'][0,:].filled(np.nan) #3 dimensions float32 uwind(time, ny_grid, nx_grid)\n"
   ]
  },
  {
   "cell_type": "code",
   "execution_count": 38,
   "id": "acfabf20-b0aa-42b2-967a-34eb49745ff5",
   "metadata": {},
   "outputs": [
    {
     "name": "stdout",
     "output_type": "stream",
     "text": [
      "(72,)\n",
      "(72, 68)\n",
      "(4896,)\n"
     ]
    }
   ],
   "source": [
    "print(lon.shape)\n",
    "print(uwind.shape)\n",
    "print(uwind.flatten().shape)"
   ]
  },
  {
   "cell_type": "code",
   "execution_count": 22,
   "id": "4b8e51f6-9e9f-4435-bc3f-616fad249c9f",
   "metadata": {},
   "outputs": [
    {
     "name": "stdout",
     "output_type": "stream",
     "text": [
      "<class 'numpy.ndarray'>\n",
      "<class 'numpy.ndarray'>\n"
     ]
    }
   ],
   "source": [
    "print(type(lon))\n",
    "print(type(lon.flatten()))"
   ]
  },
  {
   "cell_type": "code",
   "execution_count": 10,
   "id": "f564419f-c0ec-4130-8e67-0d1047a7040c",
   "metadata": {},
   "outputs": [],
   "source": [
    "# vector=[]\n",
    "# [vector.append(xy) for xy in zip(lon, lat)]\n",
    "# print(vector)"
   ]
  },
  {
   "cell_type": "code",
   "execution_count": 11,
   "id": "564260fb-aaec-4961-b8c9-090f56086e95",
   "metadata": {},
   "outputs": [],
   "source": [
    "# #iterate to get list of points\n",
    "# geo=[]\n",
    "# for x in lon:\n",
    "#     print(x)\n",
    "#     for y in lat:\n",
    "#         print(y)\n",
    "#         geo.append(Point(x,y))\n",
    "        \n",
    "# print(geo)"
   ]
  },
  {
   "cell_type": "code",
   "execution_count": 24,
   "id": "23a0de36-1784-48dd-b31c-1b2cf9cf835e",
   "metadata": {},
   "outputs": [
    {
     "name": "stdout",
     "output_type": "stream",
     "text": [
      "<class 'list'>\n"
     ]
    }
   ],
   "source": [
    "print(type(geometry))"
   ]
  },
  {
   "cell_type": "code",
   "execution_count": 40,
   "id": "c706de4b-4b57-484c-b357-a7b24afb375c",
   "metadata": {},
   "outputs": [
    {
     "data": {
      "text/plain": [
       "5184"
      ]
     },
     "execution_count": 40,
     "metadata": {},
     "output_type": "execute_result"
    }
   ],
   "source": [
    "len(geometry)"
   ]
  },
  {
   "cell_type": "code",
   "execution_count": 39,
   "id": "74eea0b8-8356-42a4-a5a7-e09a79307e14",
   "metadata": {},
   "outputs": [],
   "source": [
    "geometry=[]\n",
    "for x in lon:\n",
    "    for y in lat:\n",
    "        geometry.append(Point(x,y))\n",
    "\n",
    "# #print(geometry.shape)\n",
    "# print(type(geometry))"
   ]
  },
  {
   "cell_type": "code",
   "execution_count": 41,
   "id": "97f597bc-c308-4858-95d6-5985e1c88dee",
   "metadata": {},
   "outputs": [],
   "source": [
    "a=[1,2,3,4,5]\n",
    "b=['a','b','c','d']"
   ]
  },
  {
   "cell_type": "code",
   "execution_count": 42,
   "id": "12d89255-6bc6-414b-8075-ce7a9ea088b6",
   "metadata": {},
   "outputs": [
    {
     "name": "stdout",
     "output_type": "stream",
     "text": [
      "1 a\n",
      "1 b\n",
      "1 c\n",
      "1 d\n",
      "2 a\n",
      "2 b\n",
      "2 c\n",
      "2 d\n",
      "3 a\n",
      "3 b\n",
      "3 c\n",
      "3 d\n",
      "4 a\n",
      "4 b\n",
      "4 c\n",
      "4 d\n",
      "5 a\n",
      "5 b\n",
      "5 c\n",
      "5 d\n"
     ]
    }
   ],
   "source": [
    "check=[]\n",
    "for i in a:\n",
    "    for j in b:\n",
    "        print(i,j)"
   ]
  },
  {
   "cell_type": "code",
   "execution_count": 28,
   "id": "3e6f3864-d672-4857-b4f9-4aa5328dacbb",
   "metadata": {},
   "outputs": [
    {
     "ename": "ValueError",
     "evalue": "Length of values (5184) does not match length of index (1632)",
     "output_type": "error",
     "traceback": [
      "\u001b[0;31m---------------------------------------------------------------------------\u001b[0m",
      "\u001b[0;31mValueError\u001b[0m                                Traceback (most recent call last)",
      "Cell \u001b[0;32mIn[28], line 7\u001b[0m\n\u001b[1;32m      1\u001b[0m \u001b[38;5;66;03m# Create a list of points\u001b[39;00m\n\u001b[1;32m      2\u001b[0m \u001b[38;5;66;03m#geometry = [Point(xy) for xy in [xy for ]\u001b[39;00m\n\u001b[1;32m      3\u001b[0m \n\u001b[1;32m      4\u001b[0m \n\u001b[1;32m      5\u001b[0m \n\u001b[1;32m      6\u001b[0m \u001b[38;5;66;03m# Create a GeoDataFrame\u001b[39;00m\n\u001b[0;32m----> 7\u001b[0m gdf \u001b[38;5;241m=\u001b[39m \u001b[43mgpd\u001b[49m\u001b[38;5;241;43m.\u001b[39;49m\u001b[43mGeoDataFrame\u001b[49m\u001b[43m(\u001b[49m\n\u001b[1;32m      8\u001b[0m \u001b[43m    \u001b[49m\u001b[43mdata\u001b[49m\u001b[38;5;241;43m=\u001b[39;49m\u001b[43m{\u001b[49m\u001b[38;5;124;43m'\u001b[39;49m\u001b[38;5;124;43muwind\u001b[39;49m\u001b[38;5;124;43m'\u001b[39;49m\u001b[43m:\u001b[49m\u001b[43m \u001b[49m\u001b[43muwind\u001b[49m\u001b[43m}\u001b[49m\u001b[43m,\u001b[49m\n\u001b[1;32m      9\u001b[0m \u001b[43m    \u001b[49m\u001b[43mgeometry\u001b[49m\u001b[38;5;241;43m=\u001b[39;49m\u001b[43mgeometry\u001b[49m\u001b[43m,\u001b[49m\n\u001b[1;32m     10\u001b[0m \u001b[43m    \u001b[49m\u001b[38;5;66;43;03m# Define projections \u001b[39;49;00m\n\u001b[1;32m     11\u001b[0m \u001b[43m    \u001b[49m\u001b[43mcrs\u001b[49m\u001b[43m \u001b[49m\u001b[38;5;241;43m=\u001b[39;49m\u001b[43m \u001b[49m\u001b[38;5;124;43m'\u001b[39;49m\u001b[38;5;124;43mEPSG:26910\u001b[39;49m\u001b[38;5;124;43m'\u001b[39;49m\u001b[43m \u001b[49m\u001b[38;5;66;43;03m#what SCHISM uses\u001b[39;49;00m\n\u001b[1;32m     12\u001b[0m \u001b[43m)\u001b[49m\n",
      "File \u001b[0;32m/global/software/sl-7.x86_64/modules/langs/python/3.10/lib/python3.10/site-packages/geopandas/geodataframe.py:188\u001b[0m, in \u001b[0;36mGeoDataFrame.__init__\u001b[0;34m(self, data, geometry, crs, *args, **kwargs)\u001b[0m\n\u001b[1;32m    180\u001b[0m     \u001b[38;5;28;01mif\u001b[39;00m (\n\u001b[1;32m    181\u001b[0m         \u001b[38;5;28mhasattr\u001b[39m(geometry, \u001b[38;5;124m\"\u001b[39m\u001b[38;5;124mcrs\u001b[39m\u001b[38;5;124m\"\u001b[39m)\n\u001b[1;32m    182\u001b[0m         \u001b[38;5;129;01mand\u001b[39;00m geometry\u001b[38;5;241m.\u001b[39mcrs\n\u001b[1;32m    183\u001b[0m         \u001b[38;5;129;01mand\u001b[39;00m crs\n\u001b[1;32m    184\u001b[0m         \u001b[38;5;129;01mand\u001b[39;00m \u001b[38;5;129;01mnot\u001b[39;00m geometry\u001b[38;5;241m.\u001b[39mcrs \u001b[38;5;241m==\u001b[39m crs\n\u001b[1;32m    185\u001b[0m     ):\n\u001b[1;32m    186\u001b[0m         \u001b[38;5;28;01mraise\u001b[39;00m \u001b[38;5;167;01mValueError\u001b[39;00m(crs_mismatch_error)\n\u001b[0;32m--> 188\u001b[0m     \u001b[38;5;28;43mself\u001b[39;49m\u001b[38;5;241;43m.\u001b[39;49m\u001b[43mset_geometry\u001b[49m\u001b[43m(\u001b[49m\u001b[43mgeometry\u001b[49m\u001b[43m,\u001b[49m\u001b[43m \u001b[49m\u001b[43minplace\u001b[49m\u001b[38;5;241;43m=\u001b[39;49m\u001b[38;5;28;43;01mTrue\u001b[39;49;00m\u001b[43m,\u001b[49m\u001b[43m \u001b[49m\u001b[43mcrs\u001b[49m\u001b[38;5;241;43m=\u001b[39;49m\u001b[43mcrs\u001b[49m\u001b[43m)\u001b[49m\n\u001b[1;32m    190\u001b[0m \u001b[38;5;28;01mif\u001b[39;00m geometry \u001b[38;5;129;01mis\u001b[39;00m \u001b[38;5;28;01mNone\u001b[39;00m \u001b[38;5;129;01mand\u001b[39;00m crs:\n\u001b[1;32m    191\u001b[0m     \u001b[38;5;28;01mraise\u001b[39;00m \u001b[38;5;167;01mValueError\u001b[39;00m(\n\u001b[1;32m    192\u001b[0m         \u001b[38;5;124m\"\u001b[39m\u001b[38;5;124mAssigning CRS to a GeoDataFrame without a geometry column is not \u001b[39m\u001b[38;5;124m\"\u001b[39m\n\u001b[1;32m    193\u001b[0m         \u001b[38;5;124m\"\u001b[39m\u001b[38;5;124msupported. Supply geometry using the \u001b[39m\u001b[38;5;124m'\u001b[39m\u001b[38;5;124mgeometry=\u001b[39m\u001b[38;5;124m'\u001b[39m\u001b[38;5;124m keyword argument, \u001b[39m\u001b[38;5;124m\"\u001b[39m\n\u001b[1;32m    194\u001b[0m         \u001b[38;5;124m\"\u001b[39m\u001b[38;5;124mor by providing a DataFrame with column name \u001b[39m\u001b[38;5;124m'\u001b[39m\u001b[38;5;124mgeometry\u001b[39m\u001b[38;5;124m'\u001b[39m\u001b[38;5;124m\"\u001b[39m,\n\u001b[1;32m    195\u001b[0m     )\n",
      "File \u001b[0;32m/global/software/sl-7.x86_64/modules/langs/python/3.10/lib/python3.10/site-packages/geopandas/geodataframe.py:347\u001b[0m, in \u001b[0;36mGeoDataFrame.set_geometry\u001b[0;34m(self, col, drop, inplace, crs)\u001b[0m\n\u001b[1;32m    345\u001b[0m \u001b[38;5;66;03m# Check that we are using a listlike of geometries\u001b[39;00m\n\u001b[1;32m    346\u001b[0m level \u001b[38;5;241m=\u001b[39m _ensure_geometry(level, crs\u001b[38;5;241m=\u001b[39mcrs)\n\u001b[0;32m--> 347\u001b[0m frame[geo_column_name] \u001b[38;5;241m=\u001b[39m level\n\u001b[1;32m    348\u001b[0m frame\u001b[38;5;241m.\u001b[39m_geometry_column_name \u001b[38;5;241m=\u001b[39m geo_column_name\n\u001b[1;32m    349\u001b[0m \u001b[38;5;28;01mif\u001b[39;00m \u001b[38;5;129;01mnot\u001b[39;00m inplace:\n",
      "File \u001b[0;32m/global/software/sl-7.x86_64/modules/langs/python/3.10/lib/python3.10/site-packages/geopandas/geodataframe.py:1443\u001b[0m, in \u001b[0;36mGeoDataFrame.__setitem__\u001b[0;34m(self, key, value)\u001b[0m\n\u001b[1;32m   1441\u001b[0m     \u001b[38;5;28;01mexcept\u001b[39;00m \u001b[38;5;167;01mTypeError\u001b[39;00m:\n\u001b[1;32m   1442\u001b[0m         warnings\u001b[38;5;241m.\u001b[39mwarn(\u001b[38;5;124m\"\u001b[39m\u001b[38;5;124mGeometry column does not contain geometry.\u001b[39m\u001b[38;5;124m\"\u001b[39m)\n\u001b[0;32m-> 1443\u001b[0m \u001b[38;5;28;43msuper\u001b[39;49m\u001b[43m(\u001b[49m\u001b[43m)\u001b[49m\u001b[38;5;241;43m.\u001b[39;49m\u001b[38;5;21;43m__setitem__\u001b[39;49m\u001b[43m(\u001b[49m\u001b[43mkey\u001b[49m\u001b[43m,\u001b[49m\u001b[43m \u001b[49m\u001b[43mvalue\u001b[49m\u001b[43m)\u001b[49m\n",
      "File \u001b[0;32m~/.local/lib/python3.10/site-packages/pandas/core/frame.py:4311\u001b[0m, in \u001b[0;36mDataFrame.__setitem__\u001b[0;34m(self, key, value)\u001b[0m\n\u001b[1;32m   4308\u001b[0m     \u001b[38;5;28mself\u001b[39m\u001b[38;5;241m.\u001b[39m_setitem_array([key], value)\n\u001b[1;32m   4309\u001b[0m \u001b[38;5;28;01melse\u001b[39;00m:\n\u001b[1;32m   4310\u001b[0m     \u001b[38;5;66;03m# set column\u001b[39;00m\n\u001b[0;32m-> 4311\u001b[0m     \u001b[38;5;28;43mself\u001b[39;49m\u001b[38;5;241;43m.\u001b[39;49m\u001b[43m_set_item\u001b[49m\u001b[43m(\u001b[49m\u001b[43mkey\u001b[49m\u001b[43m,\u001b[49m\u001b[43m \u001b[49m\u001b[43mvalue\u001b[49m\u001b[43m)\u001b[49m\n",
      "File \u001b[0;32m~/.local/lib/python3.10/site-packages/pandas/core/frame.py:4524\u001b[0m, in \u001b[0;36mDataFrame._set_item\u001b[0;34m(self, key, value)\u001b[0m\n\u001b[1;32m   4514\u001b[0m \u001b[38;5;28;01mdef\u001b[39;00m \u001b[38;5;21m_set_item\u001b[39m(\u001b[38;5;28mself\u001b[39m, key, value) \u001b[38;5;241m-\u001b[39m\u001b[38;5;241m>\u001b[39m \u001b[38;5;28;01mNone\u001b[39;00m:\n\u001b[1;32m   4515\u001b[0m \u001b[38;5;250m    \u001b[39m\u001b[38;5;124;03m\"\"\"\u001b[39;00m\n\u001b[1;32m   4516\u001b[0m \u001b[38;5;124;03m    Add series to DataFrame in specified column.\u001b[39;00m\n\u001b[1;32m   4517\u001b[0m \n\u001b[0;32m   (...)\u001b[0m\n\u001b[1;32m   4522\u001b[0m \u001b[38;5;124;03m    ensure homogeneity.\u001b[39;00m\n\u001b[1;32m   4523\u001b[0m \u001b[38;5;124;03m    \"\"\"\u001b[39;00m\n\u001b[0;32m-> 4524\u001b[0m     value, refs \u001b[38;5;241m=\u001b[39m \u001b[38;5;28;43mself\u001b[39;49m\u001b[38;5;241;43m.\u001b[39;49m\u001b[43m_sanitize_column\u001b[49m\u001b[43m(\u001b[49m\u001b[43mvalue\u001b[49m\u001b[43m)\u001b[49m\n\u001b[1;32m   4526\u001b[0m     \u001b[38;5;28;01mif\u001b[39;00m (\n\u001b[1;32m   4527\u001b[0m         key \u001b[38;5;129;01min\u001b[39;00m \u001b[38;5;28mself\u001b[39m\u001b[38;5;241m.\u001b[39mcolumns\n\u001b[1;32m   4528\u001b[0m         \u001b[38;5;129;01mand\u001b[39;00m value\u001b[38;5;241m.\u001b[39mndim \u001b[38;5;241m==\u001b[39m \u001b[38;5;241m1\u001b[39m\n\u001b[1;32m   4529\u001b[0m         \u001b[38;5;129;01mand\u001b[39;00m \u001b[38;5;129;01mnot\u001b[39;00m \u001b[38;5;28misinstance\u001b[39m(value\u001b[38;5;241m.\u001b[39mdtype, ExtensionDtype)\n\u001b[1;32m   4530\u001b[0m     ):\n\u001b[1;32m   4531\u001b[0m         \u001b[38;5;66;03m# broadcast across multiple columns if necessary\u001b[39;00m\n\u001b[1;32m   4532\u001b[0m         \u001b[38;5;28;01mif\u001b[39;00m \u001b[38;5;129;01mnot\u001b[39;00m \u001b[38;5;28mself\u001b[39m\u001b[38;5;241m.\u001b[39mcolumns\u001b[38;5;241m.\u001b[39mis_unique \u001b[38;5;129;01mor\u001b[39;00m \u001b[38;5;28misinstance\u001b[39m(\u001b[38;5;28mself\u001b[39m\u001b[38;5;241m.\u001b[39mcolumns, MultiIndex):\n",
      "File \u001b[0;32m~/.local/lib/python3.10/site-packages/pandas/core/frame.py:5266\u001b[0m, in \u001b[0;36mDataFrame._sanitize_column\u001b[0;34m(self, value)\u001b[0m\n\u001b[1;32m   5263\u001b[0m     \u001b[38;5;28;01mreturn\u001b[39;00m _reindex_for_setitem(value, \u001b[38;5;28mself\u001b[39m\u001b[38;5;241m.\u001b[39mindex)\n\u001b[1;32m   5265\u001b[0m \u001b[38;5;28;01mif\u001b[39;00m is_list_like(value):\n\u001b[0;32m-> 5266\u001b[0m     \u001b[43mcom\u001b[49m\u001b[38;5;241;43m.\u001b[39;49m\u001b[43mrequire_length_match\u001b[49m\u001b[43m(\u001b[49m\u001b[43mvalue\u001b[49m\u001b[43m,\u001b[49m\u001b[43m \u001b[49m\u001b[38;5;28;43mself\u001b[39;49m\u001b[38;5;241;43m.\u001b[39;49m\u001b[43mindex\u001b[49m\u001b[43m)\u001b[49m\n\u001b[1;32m   5267\u001b[0m arr \u001b[38;5;241m=\u001b[39m sanitize_array(value, \u001b[38;5;28mself\u001b[39m\u001b[38;5;241m.\u001b[39mindex, copy\u001b[38;5;241m=\u001b[39m\u001b[38;5;28;01mTrue\u001b[39;00m, allow_2d\u001b[38;5;241m=\u001b[39m\u001b[38;5;28;01mTrue\u001b[39;00m)\n\u001b[1;32m   5268\u001b[0m \u001b[38;5;28;01mif\u001b[39;00m (\n\u001b[1;32m   5269\u001b[0m     \u001b[38;5;28misinstance\u001b[39m(value, Index)\n\u001b[1;32m   5270\u001b[0m     \u001b[38;5;129;01mand\u001b[39;00m value\u001b[38;5;241m.\u001b[39mdtype \u001b[38;5;241m==\u001b[39m \u001b[38;5;124m\"\u001b[39m\u001b[38;5;124mobject\u001b[39m\u001b[38;5;124m\"\u001b[39m\n\u001b[0;32m   (...)\u001b[0m\n\u001b[1;32m   5273\u001b[0m     \u001b[38;5;66;03m# TODO: Remove kludge in sanitize_array for string mode when enforcing\u001b[39;00m\n\u001b[1;32m   5274\u001b[0m     \u001b[38;5;66;03m# this deprecation\u001b[39;00m\n",
      "File \u001b[0;32m~/.local/lib/python3.10/site-packages/pandas/core/common.py:573\u001b[0m, in \u001b[0;36mrequire_length_match\u001b[0;34m(data, index)\u001b[0m\n\u001b[1;32m    569\u001b[0m \u001b[38;5;250m\u001b[39m\u001b[38;5;124;03m\"\"\"\u001b[39;00m\n\u001b[1;32m    570\u001b[0m \u001b[38;5;124;03mCheck the length of data matches the length of the index.\u001b[39;00m\n\u001b[1;32m    571\u001b[0m \u001b[38;5;124;03m\"\"\"\u001b[39;00m\n\u001b[1;32m    572\u001b[0m \u001b[38;5;28;01mif\u001b[39;00m \u001b[38;5;28mlen\u001b[39m(data) \u001b[38;5;241m!=\u001b[39m \u001b[38;5;28mlen\u001b[39m(index):\n\u001b[0;32m--> 573\u001b[0m     \u001b[38;5;28;01mraise\u001b[39;00m \u001b[38;5;167;01mValueError\u001b[39;00m(\n\u001b[1;32m    574\u001b[0m         \u001b[38;5;124m\"\u001b[39m\u001b[38;5;124mLength of values \u001b[39m\u001b[38;5;124m\"\u001b[39m\n\u001b[1;32m    575\u001b[0m         \u001b[38;5;124mf\u001b[39m\u001b[38;5;124m\"\u001b[39m\u001b[38;5;124m(\u001b[39m\u001b[38;5;132;01m{\u001b[39;00m\u001b[38;5;28mlen\u001b[39m(data)\u001b[38;5;132;01m}\u001b[39;00m\u001b[38;5;124m) \u001b[39m\u001b[38;5;124m\"\u001b[39m\n\u001b[1;32m    576\u001b[0m         \u001b[38;5;124m\"\u001b[39m\u001b[38;5;124mdoes not match length of index \u001b[39m\u001b[38;5;124m\"\u001b[39m\n\u001b[1;32m    577\u001b[0m         \u001b[38;5;124mf\u001b[39m\u001b[38;5;124m\"\u001b[39m\u001b[38;5;124m(\u001b[39m\u001b[38;5;132;01m{\u001b[39;00m\u001b[38;5;28mlen\u001b[39m(index)\u001b[38;5;132;01m}\u001b[39;00m\u001b[38;5;124m)\u001b[39m\u001b[38;5;124m\"\u001b[39m\n\u001b[1;32m    578\u001b[0m     )\n",
      "\u001b[0;31mValueError\u001b[0m: Length of values (5184) does not match length of index (1632)"
     ]
    }
   ],
   "source": [
    "# Create a list of points\n",
    "#geometry = [Point(xy) for xy in [xy for ]\n",
    "\n",
    "\n",
    "\n",
    "# Create a GeoDataFrame\n",
    "gdf = gpd.GeoDataFrame(\n",
    "    data={'uwind': uwind},\n",
    "    geometry=geometry,\n",
    "    # Define projections \n",
    "    crs = 'EPSG:26910' #what SCHISM uses\n",
    ")"
   ]
  },
  {
   "cell_type": "code",
   "execution_count": null,
   "id": "963ec492-8641-4676-af59-364d94d13060",
   "metadata": {},
   "outputs": [],
   "source": [
    "# Write the GeoDataFrame to a shapefile\n",
    "gdf.to_file('BDSCHISM_shapefile.shp')"
   ]
  },
  {
   "cell_type": "code",
   "execution_count": null,
   "id": "50bdc24f-6d6c-4864-aaf4-8786eb1784d2",
   "metadata": {},
   "outputs": [],
   "source": []
  }
 ],
 "metadata": {
  "kernelspec": {
   "display_name": "Python3.10.10_schism",
   "language": "python",
   "name": "python3.10.10_schism"
  },
  "language_info": {
   "codemirror_mode": {
    "name": "ipython",
    "version": 3
   },
   "file_extension": ".py",
   "mimetype": "text/x-python",
   "name": "python",
   "nbconvert_exporter": "python",
   "pygments_lexer": "ipython3",
   "version": "3.10.10"
  }
 },
 "nbformat": 4,
 "nbformat_minor": 5
}
