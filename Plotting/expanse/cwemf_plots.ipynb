{
 "cells": [
  {
   "cell_type": "code",
   "execution_count": 1,
   "metadata": {},
   "outputs": [
    {
     "name": "stdout",
     "output_type": "stream",
     "text": [
      "Modules imported!\n"
     ]
    }
   ],
   "source": [
    "import numpy as np\n",
    "import sys\n",
    "import os, sys\n",
    "import matplotlib.pyplot as plt\n",
    "import xarray as xr\n",
    "#from xarray import open_mfadataset\n",
    "import cartopy.crs as crs\n",
    "import cartopy\n",
    "from matplotlib.colors import LogNorm\n",
    "import numpy as np\n",
    "import cartopy.io.shapereader as shpreader\n",
    "from cartopy.feature import ShapelyFeature\n",
    "import cmocean\n",
    "import matplotlib\n",
    "#from pathlib import Path4\n",
    "#edit 12/04\n",
    "from pathlib import Path\n",
    "import pandas as pd\n",
    "from mpl_toolkits.axes_grid1.inset_locator import inset_axes\n",
    "from matplotlib import pyplot as plt\n",
    "import rasterio\n",
    "from rasterio.plot import show\n",
    "#try adding\n",
    "#import cfunits\n",
    "from pyschism.mesh import Hgrid\n",
    "import pyschism\n",
    "from matplotlib.image import imread\n",
    "import cmcrameri.cm as ccm\n",
    "from matplotlib.collections import PolyCollection\n",
    "\n",
    "\n",
    "print(\"Modules imported!\")\n"
   ]
  },
  {
   "cell_type": "code",
   "execution_count": 2,
   "metadata": {},
   "outputs": [],
   "source": [
    "#import Sienna's plotting library\n",
    "import schism_plot_lib_2025_05_12 as spl\n",
    "import time"
   ]
  },
  {
   "cell_type": "code",
   "execution_count": null,
   "metadata": {},
   "outputs": [],
   "source": [
    "dpi = 300\n",
    "image_save_dpi = 1200\n",
    "\n",
    "import matplotlib_inline\n",
    "%matplotlib inline\n",
    "%matplotlib inline\n",
    "matplotlib_inline.backend_inline.set_matplotlib_formats('retina')\n",
    "matplotlib.rcParams[\"figure.dpi\"] = dpi\n",
    "plt.rcParams['figure.dpi'] = dpi"
   ]
  },
  {
   "cell_type": "code",
   "execution_count": 3,
   "metadata": {},
   "outputs": [
    {
     "name": "stdout",
     "output_type": "stream",
     "text": [
      "\n",
      " Creating run object for results in /expanse/lustre/scratch/jisrael/temp_project/run_schism/run_2_restart_2018_04_18/outputs/ ... \n",
      "\n",
      "Found 28066 netcdf files!\n",
      "Found output for:\n",
      "\t 1 - horizontalVelX\n",
      "\t 2 - horizontalVelY\n",
      "\t 3 - hotstart\n",
      "\t 4 - out2d\n",
      "\t 5 - salinity\n",
      "\t 6 - temperature\n",
      "\t 7 - turbulentKineticEner\n",
      "\t 8 - zCoordinates\n"
     ]
    }
   ],
   "source": [
    "fn = \"/expanse/lustre/scratch/jisrael/temp_project/run_schism/run_2_restart_2018_04_18/outputs/\"\n",
    "run = spl.SchismOutput(output_folder=fn)"
   ]
  },
  {
   "cell_type": "code",
   "execution_count": 4,
   "metadata": {},
   "outputs": [],
   "source": [
    "fno=681\n",
    "tpoint=47"
   ]
  },
  {
   "cell_type": "code",
   "execution_count": null,
   "metadata": {},
   "outputs": [],
   "source": []
  },
  {
   "cell_type": "code",
   "execution_count": 5,
   "metadata": {},
   "outputs": [
    {
     "name": "stdout",
     "output_type": "stream",
     "text": [
      "/expanse/lustre/scratch/jisrael/temp_project/run_schism/run_2_restart_2018_04_18/outputs/salinity_681.nc\n",
      "Loading in /expanse/lustre/scratch/jisrael/temp_project/run_schism/run_2_restart_2018_04_18/outputs/salinity_681.nc\n"
     ]
    },
    {
     "name": "stderr",
     "output_type": "stream",
     "text": [
      "/home/jisrael/miniconda/envs/geoplot/lib/python3.11/site-packages/xarray/backends/plugins.py:80: RuntimeWarning: Engine 'cfgrib' loading failed:\n",
      "Cannot find the ecCodes library\n",
      "  warnings.warn(f\"Engine {name!r} loading failed:\\n{ex}\", RuntimeWarning)\n"
     ]
    },
    {
     "name": "stdout",
     "output_type": "stream",
     "text": [
      "Loaded in dataset! \n",
      "\n",
      "<xarray.Dataset> Size: 2GB\n",
      "Dimensions:   (time: 48, nSCHISM_hgrid_node: 471330, nSCHISM_vgrid_layers: 23)\n",
      "Coordinates:\n",
      "  * time      (time) datetime64[ns] 384B 2018-11-11T16:30:00 ... 2018-11-12T1...\n",
      "Dimensions without coordinates: nSCHISM_hgrid_node, nSCHISM_vgrid_layers\n",
      "Data variables:\n",
      "    salinity  (time, nSCHISM_hgrid_node, nSCHISM_vgrid_layers) float32 2GB ...\n",
      "TIME ['2018-11-11T16:30:00.000000000' '2018-11-11T17:00:00.000000000'\n",
      " '2018-11-11T17:30:00.000000000' '2018-11-11T18:00:00.000000000'\n",
      " '2018-11-11T18:30:00.000000000' '2018-11-11T19:00:00.000000000'\n",
      " '2018-11-11T19:30:00.000000000' '2018-11-11T20:00:00.000000000'\n",
      " '2018-11-11T20:30:00.000000000' '2018-11-11T21:00:00.000000000'\n",
      " '2018-11-11T21:30:00.000000000' '2018-11-11T22:00:00.000000000'\n",
      " '2018-11-11T22:30:00.000000000' '2018-11-11T23:00:00.000000000'\n",
      " '2018-11-11T23:30:00.000000000' '2018-11-12T00:00:00.000000000'\n",
      " '2018-11-12T00:30:00.000000000' '2018-11-12T01:00:00.000000000'\n",
      " '2018-11-12T01:30:00.000000000' '2018-11-12T02:00:00.000000000'\n",
      " '2018-11-12T02:30:00.000000000' '2018-11-12T03:00:00.000000000'\n",
      " '2018-11-12T03:30:00.000000000' '2018-11-12T04:00:00.000000000'\n",
      " '2018-11-12T04:30:00.000000000' '2018-11-12T05:00:00.000000000'\n",
      " '2018-11-12T05:30:00.000000000' '2018-11-12T06:00:00.000000000'\n",
      " '2018-11-12T06:30:00.000000000' '2018-11-12T07:00:00.000000000'\n",
      " '2018-11-12T07:30:00.000000000' '2018-11-12T08:00:00.000000000'\n",
      " '2018-11-12T08:30:00.000000000' '2018-11-12T09:00:00.000000000'\n",
      " '2018-11-12T09:30:00.000000000' '2018-11-12T10:00:00.000000000'\n",
      " '2018-11-12T10:30:00.000000000' '2018-11-12T11:00:00.000000000'\n",
      " '2018-11-12T11:30:00.000000000' '2018-11-12T12:00:00.000000000'\n",
      " '2018-11-12T12:30:00.000000000' '2018-11-12T13:00:00.000000000'\n",
      " '2018-11-12T13:30:00.000000000' '2018-11-12T14:00:00.000000000'\n",
      " '2018-11-12T14:30:00.000000000' '2018-11-12T15:00:00.000000000'\n",
      " '2018-11-12T15:30:00.000000000' '2018-11-12T16:00:00.000000000']\n"
     ]
    }
   ],
   "source": [
    "ds = run.Result(run, variable = \"salinity\", filenumber=fno)"
   ]
  },
  {
   "cell_type": "code",
   "execution_count": 6,
   "metadata": {},
   "outputs": [],
   "source": [
    "proj_utm10 = 'EPSG:26910'"
   ]
  },
  {
   "cell_type": "code",
   "execution_count": 7,
   "metadata": {},
   "outputs": [
    {
     "data": {
      "text/plain": [
       "PosixPath('/expanse/lustre/scratch/jisrael/temp_project/run_schism/run_2_restart_2018_04_18/hgrid.gr3')"
      ]
     },
     "execution_count": 7,
     "metadata": {},
     "output_type": "execute_result"
    }
   ],
   "source": [
    "run.run_dir\n",
    "run.run_dir / \"hgrid.gr3\""
   ]
  },
  {
   "cell_type": "code",
   "execution_count": 8,
   "metadata": {},
   "outputs": [],
   "source": [
    "hgrid = Hgrid.open('/expanse/lustre/scratch/jisrael/temp_project/run_schism/run_2_restart_2018_04_18/hgrid_clean.gr3', crs=proj_utm10)"
   ]
  },
  {
   "cell_type": "code",
   "execution_count": 9,
   "metadata": {},
   "outputs": [],
   "source": [
    "# fig1, ax1 = ds.plot_variable(run, domain=\"Bay-Delta\", time=\"average\", depth= \"average\", titlestr=\"Historical Salinity 07/06/2018\")"
   ]
  },
  {
   "cell_type": "code",
   "execution_count": 10,
   "metadata": {},
   "outputs": [
    {
     "name": "stdout",
     "output_type": "stream",
     "text": [
      "\n",
      " Creating run object for results in /expanse/lustre/scratch/jisrael/temp_project/run_schism/run_3/outputs ... \n",
      "\n",
      "Found 19980 netcdf files!\n",
      "Found output for:\n",
      "\t 1 - horizontalVelX\n",
      "\t 2 - horizontalVelY\n",
      "\t 3 - hotstart\n",
      "\t 4 - out2d\n",
      "\t 5 - salinity\n",
      "\t 6 - temperature\n",
      "\t 7 - turbulentKineticEner\n",
      "\t 8 - zCoordinates\n",
      "/expanse/lustre/scratch/jisrael/temp_project/run_schism/run_3/outputs/salinity_681.nc\n",
      "Loading in /expanse/lustre/scratch/jisrael/temp_project/run_schism/run_3/outputs/salinity_681.nc\n",
      "Loaded in dataset! \n",
      "\n",
      "<xarray.Dataset> Size: 2GB\n",
      "Dimensions:   (time: 48, nSCHISM_hgrid_node: 471330, nSCHISM_vgrid_layers: 23)\n",
      "Coordinates:\n",
      "  * time      (time) datetime64[ns] 384B 2018-11-11T16:30:00 ... 2018-11-12T1...\n",
      "Dimensions without coordinates: nSCHISM_hgrid_node, nSCHISM_vgrid_layers\n",
      "Data variables:\n",
      "    salinity  (time, nSCHISM_hgrid_node, nSCHISM_vgrid_layers) float32 2GB ...\n",
      "TIME ['2018-11-11T16:30:00.000000000' '2018-11-11T17:00:00.000000000'\n",
      " '2018-11-11T17:30:00.000000000' '2018-11-11T18:00:00.000000000'\n",
      " '2018-11-11T18:30:00.000000000' '2018-11-11T19:00:00.000000000'\n",
      " '2018-11-11T19:30:00.000000000' '2018-11-11T20:00:00.000000000'\n",
      " '2018-11-11T20:30:00.000000000' '2018-11-11T21:00:00.000000000'\n",
      " '2018-11-11T21:30:00.000000000' '2018-11-11T22:00:00.000000000'\n",
      " '2018-11-11T22:30:00.000000000' '2018-11-11T23:00:00.000000000'\n",
      " '2018-11-11T23:30:00.000000000' '2018-11-12T00:00:00.000000000'\n",
      " '2018-11-12T00:30:00.000000000' '2018-11-12T01:00:00.000000000'\n",
      " '2018-11-12T01:30:00.000000000' '2018-11-12T02:00:00.000000000'\n",
      " '2018-11-12T02:30:00.000000000' '2018-11-12T03:00:00.000000000'\n",
      " '2018-11-12T03:30:00.000000000' '2018-11-12T04:00:00.000000000'\n",
      " '2018-11-12T04:30:00.000000000' '2018-11-12T05:00:00.000000000'\n",
      " '2018-11-12T05:30:00.000000000' '2018-11-12T06:00:00.000000000'\n",
      " '2018-11-12T06:30:00.000000000' '2018-11-12T07:00:00.000000000'\n",
      " '2018-11-12T07:30:00.000000000' '2018-11-12T08:00:00.000000000'\n",
      " '2018-11-12T08:30:00.000000000' '2018-11-12T09:00:00.000000000'\n",
      " '2018-11-12T09:30:00.000000000' '2018-11-12T10:00:00.000000000'\n",
      " '2018-11-12T10:30:00.000000000' '2018-11-12T11:00:00.000000000'\n",
      " '2018-11-12T11:30:00.000000000' '2018-11-12T12:00:00.000000000'\n",
      " '2018-11-12T12:30:00.000000000' '2018-11-12T13:00:00.000000000'\n",
      " '2018-11-12T13:30:00.000000000' '2018-11-12T14:00:00.000000000'\n",
      " '2018-11-12T14:30:00.000000000' '2018-11-12T15:00:00.000000000'\n",
      " '2018-11-12T15:30:00.000000000' '2018-11-12T16:00:00.000000000']\n"
     ]
    }
   ],
   "source": [
    "#subtract the historical from the 2C warming\n",
    "fn2 = \"/expanse/lustre/scratch/jisrael/temp_project/run_schism/run_3/outputs\"\n",
    "run2 = spl.SchismOutput(output_folder=fn2)\n",
    "dtemp2 = run2.Result(run2, variable = \"salinity\", filenumber=fno)"
   ]
  },
  {
   "cell_type": "code",
   "execution_count": null,
   "metadata": {},
   "outputs": [],
   "source": [
    "sal1_diff=dtemp2.dataset-ds.dataset"
   ]
  },
  {
   "cell_type": "code",
   "execution_count": null,
   "metadata": {},
   "outputs": [],
   "source": [
    "dtemp2.dataset=sal1_diff"
   ]
  },
  {
   "cell_type": "code",
   "execution_count": null,
   "metadata": {},
   "outputs": [],
   "source": [
    "fig2, ax2 = dtemp2.plot_variable(run, domain=\"Delta\", time=tpoint,depth= \"average\",titlestr=\"20% decrease in exports - Histoical Salinity 08/06/2018\")"
   ]
  },
  {
   "cell_type": "code",
   "execution_count": null,
   "metadata": {},
   "outputs": [],
   "source": [
    "fig2, ax2 = dtemp2.plot_variable(run, domain=\"Bay-Delta\", time=tpoint,depth= \"average\",titlestr=\"20% decrease in exports - Histoical Salinity 08/06/2018\")"
   ]
  },
  {
   "cell_type": "code",
   "execution_count": null,
   "metadata": {},
   "outputs": [],
   "source": [
    "# fig2, ax2 = dtemp2.plot_variable(run, domain=\"Bay-Delta\", time=\"average\",depth= \"average\",titlestr=\"20% decrease in exports - Histoical Salinity 08/06/2018\")"
   ]
  },
  {
   "cell_type": "code",
   "execution_count": null,
   "metadata": {},
   "outputs": [],
   "source": [
    "# fig3, ax3 = dtemp2.plot_variable(run, domain=\"Bay-Delta\", time=\"average\",depth= \"average\",titlestr=\"20% decrease in exports - Histoical Salinity 08/06/2018\")"
   ]
  },
  {
   "cell_type": "code",
   "execution_count": null,
   "metadata": {},
   "outputs": [],
   "source": [
    "#subtract the historical from the 2C warming\n",
    "fn3 = \"/expanse/lustre/scratch/jisrael/temp_project/run_schism/run_4/outputs\"\n",
    "run3 = spl.SchismOutput(output_folder=fn3)\n",
    "dtemp3 = run3.Result(run3, variable = \"salinity\", filenumber=fno)\n",
    "sal2_diff=dtemp3.dataset-ds.dataset\n",
    "dtemp3.dataset=sal2_diff"
   ]
  },
  {
   "cell_type": "code",
   "execution_count": null,
   "metadata": {},
   "outputs": [],
   "source": [
    "fig4, ax4 = dtemp3.plot_variable(run, domain=\"Delta\", time=tpoint,depth= \"average\",titlestr=\"20% increase in Sac flow - Historical Salinity 08/06/2018\")\n",
    "\n"
   ]
  },
  {
   "cell_type": "code",
   "execution_count": null,
   "metadata": {},
   "outputs": [],
   "source": [
    "fig5, ax5 = dtemp3.plot_variable(run, domain=\"Bay-Delta\", time=\"average\",depth= \"average\",titlestr=\"20% increase in Sac flow - Historical Salinity 08/06/2018\")\n"
   ]
  },
  {
   "cell_type": "code",
   "execution_count": null,
   "metadata": {},
   "outputs": [],
   "source": [
    "sal3_diff=dtemp3.dataset-dtemp2.dataset #increased inflows minus decreased exports\n",
    "dtemp3.dataset=sal3_diff"
   ]
  },
  {
   "cell_type": "code",
   "execution_count": null,
   "metadata": {},
   "outputs": [],
   "source": [
    "fig6, ax6 = dtemp3.plot_variable(run, domain=\"Delta\", time=tpoint,depth= \"average\",titlestr=\"20% increase in Sac flow - 20% decrease in exports\")\n",
    "\n"
   ]
  },
  {
   "cell_type": "code",
   "execution_count": null,
   "metadata": {},
   "outputs": [],
   "source": []
  }
 ],
 "metadata": {
  "kernelspec": {
   "display_name": "Python geoplot",
   "language": "python",
   "name": "geoplot"
  },
  "language_info": {
   "codemirror_mode": {
    "name": "ipython",
    "version": 3
   },
   "file_extension": ".py",
   "mimetype": "text/x-python",
   "name": "python",
   "nbconvert_exporter": "python",
   "pygments_lexer": "ipython3",
   "version": "3.11.9"
  }
 },
 "nbformat": 4,
 "nbformat_minor": 4
}
