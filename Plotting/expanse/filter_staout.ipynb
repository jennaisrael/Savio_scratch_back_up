{
 "cells": [
  {
   "cell_type": "markdown",
   "id": "17b7d211-5ca0-4a98-b4cd-d7ed96994d3a",
   "metadata": {},
   "source": [
    "# In this notebook tidally filter the staout file of choice "
   ]
  },
  {
   "cell_type": "code",
   "execution_count": 1,
   "id": "a3b7d580-44ba-4ba3-b3f1-17621619163a",
   "metadata": {},
   "outputs": [
    {
     "ename": "ModuleNotFoundError",
     "evalue": "No module named 'vtools'",
     "output_type": "error",
     "traceback": [
      "\u001b[0;31m---------------------------------------------------------------------------\u001b[0m",
      "\u001b[0;31mModuleNotFoundError\u001b[0m                       Traceback (most recent call last)",
      "Cell \u001b[0;32mIn[1], line 4\u001b[0m\n\u001b[1;32m      2\u001b[0m \u001b[38;5;28;01mimport\u001b[39;00m \u001b[38;5;21;01mpandas\u001b[39;00m \u001b[38;5;28;01mas\u001b[39;00m \u001b[38;5;21;01mpd\u001b[39;00m\n\u001b[1;32m      3\u001b[0m \u001b[38;5;28;01mfrom\u001b[39;00m \u001b[38;5;21;01mdatetime\u001b[39;00m \u001b[38;5;28;01mimport\u001b[39;00m datetime, timedelta\n\u001b[0;32m----> 4\u001b[0m \u001b[38;5;28;01mfrom\u001b[39;00m \u001b[38;5;21;01mvtools\u001b[39;00m\u001b[38;5;21;01m.\u001b[39;00m\u001b[38;5;21;01mfunctions\u001b[39;00m\u001b[38;5;21;01m.\u001b[39;00m\u001b[38;5;21;01mfilter\u001b[39;00m \u001b[38;5;28;01mimport\u001b[39;00m cosine_lanczos\n\u001b[1;32m      5\u001b[0m \u001b[38;5;28;01mfrom\u001b[39;00m \u001b[38;5;21;01mvtools\u001b[39;00m\u001b[38;5;21;01m.\u001b[39;00m\u001b[38;5;21;01mdata\u001b[39;00m\u001b[38;5;21;01m.\u001b[39;00m\u001b[38;5;21;01mvtime\u001b[39;00m \u001b[38;5;28;01mimport\u001b[39;00m days, hours, minutes\n",
      "\u001b[0;31mModuleNotFoundError\u001b[0m: No module named 'vtools'"
     ]
    }
   ],
   "source": [
    "import numpy as np\n",
    "import pandas as pd\n",
    "from datetime import datetime, timedelta\n",
    "from vtools.functions.filter import cosine_lanczos\n",
    "from vtools.data.vtime import days, hours, minutes\n"
   ]
  },
  {
   "cell_type": "code",
   "execution_count": null,
   "id": "04d1b102-de66-4f3d-99c4-30448cb2fb8b",
   "metadata": {},
   "outputs": [],
   "source": [
    "#function comes from schimpy metricsplot.py script https://github.com/CADWRDeltaModeling/schimpy/blob/master/schimpy/metricsplot.py\n",
    "def filter_timeseries(tss, cutoff_period=hours(40)):\n",
    "    \"\"\" Filter time series\n",
    "\n",
    "        Parameters\n",
    "        ----------\n",
    "\n",
    "        Returns\n",
    "        -------\n",
    "        list of vtools.data.timeseries.TimeSeries\n",
    "            filtered time series\n",
    "    \"\"\"\n",
    "\n",
    "    filtered = []\n",
    "    ts=tss #try removing the loop for now\n",
    "    if ts is None:\n",
    "        filtered.append(None)\n",
    "    else:\n",
    "        #print(ts)\n",
    "        ts_filtered = cosine_lanczos(ts, cutoff_period=cutoff_period)\n",
    "        ts_filtered.filtered = 'cosine_lanczos'\n",
    "        #ts_filtered.unit = ts.unit\n",
    "        #filtered.append(ts_filtered)\n",
    "    # for ts in tss:\n",
    "    #     if ts is None:\n",
    "    #         filtered.append(None)\n",
    "    #     else:\n",
    "    #         print(ts)\n",
    "    #         ts_filtered = cosine_lanczos(ts, cutoff_period=cutoff_period)\n",
    "    #         ts_filtered.filtered = 'cosine_lanczos'\n",
    "    #         ts_filtered.unit = ts.unit\n",
    "    #         filtered.append(ts_filtered)\n",
    "    return ts_filtered\n"
   ]
  },
  {
   "cell_type": "code",
   "execution_count": null,
   "id": "cebe8601-de85-4c8f-a75b-15d88d025d91",
   "metadata": {},
   "outputs": [],
   "source": [
    "def filter_staout(file, timebasis, nstations, path):\n",
    "    \n",
    "    # where file is the path to the staout_* file, \n",
    "    # timebasis is a string of the format \"%m-%d-%y 00:00:00\"\n",
    "    # which is the run start time which the seconds in the time \n",
    "    # column of the staout file are in reference to,\n",
    "    # nstations is the number of stations in the station.in file\n",
    "    # associated with this run (for the number of columns).\n",
    "    # path is the file path to write the filtered station_file\n",
    "    # including the new file's name\n",
    "    \n",
    "    columns = ['time']\n",
    "    stations_no = [str(i) for i in range(nstations)]\n",
    "    columns = columns + stations_no\n",
    "    \n",
    "    station = pd.read_csv(file13, sep='\\s+', names=columns,dtype=np.float32)\n",
    "\n",
    "    timedelta = [pd.Timedelta(i, unit = 's') for i in station.time]\n",
    "    timestamp = [pd.to_datetime(timebasis) + i for i in timedelta13]\n",
    "\n",
    "    station[\"time\"] = timestamp13\n",
    "\n",
    "    #filter using cosine-lanczos (see above function)\n",
    "    station_filt = filter_timeseries(station)\n",
    "    \n",
    "    station_filt.to_csv(path)"
   ]
  },
  {
   "cell_type": "code",
   "execution_count": null,
   "id": "63cc011f-d568-4692-a79b-11208ff80189",
   "metadata": {},
   "outputs": [],
   "source": [
    "file13=\"/expanse/lustre/scratch/jisrael/temp_project/run_schism/run_13/outputs/staout_6\"# 1:elev,2:air pressure,3:wind_x,4:wind_y,5:temp,6:salt,7:u,8:v,9:w\n",
    "file14=\"/expanse/lustre/scratch/jisrael/temp_project/run_schism/run_14/outputs/staout_6\"\n",
    "s13 = pd.read_csv(file13, sep='\\s+', names=columns,dtype=np.float32) #, decode_times=False)\n",
    "#s13 = s13.apply(pd.to_numeric)\n",
    "\n",
    "s14 = pd.read_csv(file14, sep='\\s+', names=columns,dtype=np.float32) #, decode_times=False)\n",
    "#s14 = s14.apply(pd.to_numeric)\n",
    "\n",
    "#s13.time\n",
    "# # Add in the number of seconds elapsed @ our chosen timestep\n",
    "timedelta13 = [pd.Timedelta(i, unit = 's') for i in s13.time]\n",
    "timestamp13 = [pd.to_datetime(\"09-10-2020 00:00:00\") + i for i in timedelta13]\n",
    "\n",
    "s13[\"time\"] = timestamp13"
   ]
  }
 ],
 "metadata": {
  "kernelspec": {
   "display_name": "Python geoplot",
   "language": "python",
   "name": "geoplot"
  },
  "language_info": {
   "codemirror_mode": {
    "name": "ipython",
    "version": 3
   },
   "file_extension": ".py",
   "mimetype": "text/x-python",
   "name": "python",
   "nbconvert_exporter": "python",
   "pygments_lexer": "ipython3",
   "version": "3.11.9"
  }
 },
 "nbformat": 4,
 "nbformat_minor": 5
}
